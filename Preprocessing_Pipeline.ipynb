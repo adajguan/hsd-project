{
 "cells": [
  {
   "cell_type": "code",
   "execution_count": 1,
   "id": "39e2a64f",
   "metadata": {},
   "outputs": [],
   "source": [
    "import pandas as pd\n",
    "import numpy as np\n",
    "import matplotlib.pyplot as plt\n",
    "import matplotlib.dates as mdates\n",
    "import seaborn as sns\n",
    "from sklearn.preprocessing import StandardScaler\n",
    "from sklearn.model_selection import train_test_split"
   ]
  },
  {
   "cell_type": "code",
   "execution_count": 2,
   "id": "ec4eeb38",
   "metadata": {},
   "outputs": [],
   "source": [
    "# Load dataset\n",
    "file_path = \"/Users/adaguan/Desktop/HopSkipDrive_Take_Home/boost_df.csv\"\n",
    "df = pd.read_csv(file_path)"
   ]
  },
  {
   "cell_type": "code",
   "execution_count": 3,
   "id": "61f21298",
   "metadata": {},
   "outputs": [],
   "source": [
    "# Convert timestamps to datetime\n",
    "datetime_cols = [\"boost_timestamp\", \"created_at\", \"claimed_at\", \"scheduled_starts_at\", \n",
    "                 \"scheduled_ends_at\", \"unclaimed_at\", \"trip_completed_at\"]\n",
    "for col in datetime_cols:\n",
    "    df[col] = pd.to_datetime(df[col])"
   ]
  },
  {
   "cell_type": "code",
   "execution_count": 4,
   "id": "88a6324d",
   "metadata": {},
   "outputs": [],
   "source": [
    "# Sort data before aggregation to ensure chronological order\n",
    "df.sort_values(by=['trip_id', 'created_at'], inplace=True)"
   ]
  },
  {
   "cell_type": "code",
   "execution_count": 5,
   "id": "3ca9d6e5",
   "metadata": {},
   "outputs": [],
   "source": [
    "# Aggregate data by trip_id\n",
    "df_grouped = df.groupby(\"trip_id\").agg({\n",
    "    \"cumulative_boost_amount_cents\": \"max\",\n",
    "    \"seq_boost_count\": \"max\",\n",
    "    \"single_boost_amount_cents\": \"sum\",\n",
    "    \"manual_boost\": \"max\",\n",
    "    \"boost_ind\": \"max\",\n",
    "    \"boost_timestamp\": \"max\",\n",
    "    \"created_at\": \"first\",\n",
    "    \"claimed_at\": \"first\",\n",
    "    \"scheduled_starts_at\": \"first\",\n",
    "    \"trip_completed_at\": \"first\",\n",
    "    \"unclaimed_at\": \"first\",\n",
    "    \"total_predicted_duration_mins\": \"max\",\n",
    "    \"total_predicted_distance_miles\": \"max\",\n",
    "    \"total_predicted_distance_miles_for_fare\": \"max\",\n",
    "    \"dollars_paid_to_driver\": \"max\",\n",
    "    \"ever_unclaimed\": \"max\",\n",
    "    \"origin_metro_area_name\": \"first\",\n",
    "    \"commute_minutes\": \"first\",\n",
    "    \"commute_distance\": \"first\",\n",
    "    \"is_same_day_ride\": \"first\",\n",
    "    \"trip_starts_during_peak_hours\": \"first\"\n",
    "}).reset_index()"
   ]
  },
  {
   "cell_type": "code",
   "execution_count": 6,
   "id": "701b73da",
   "metadata": {},
   "outputs": [],
   "source": [
    "df_grouped.to_pickle(\"df_grouped_raw.pkl\")  # Save before feature engineering"
   ]
  },
  {
   "cell_type": "code",
   "execution_count": 7,
   "id": "1b9888b0",
   "metadata": {},
   "outputs": [],
   "source": [
    "# Split data BEFORE feature engineering\n",
    "train_df, test_df = train_test_split(df_grouped, test_size=0.2, random_state=42)"
   ]
  },
  {
   "cell_type": "markdown",
   "id": "2d7bcaac",
   "metadata": {},
   "source": [
    "### Feature Engineering"
   ]
  },
  {
   "cell_type": "code",
   "execution_count": 8,
   "id": "85b49d9b",
   "metadata": {},
   "outputs": [],
   "source": [
    "# Compute time-based features separately for train and test\n",
    "train_df['time_to_claim'] = (train_df['claimed_at'] - train_df['created_at']).dt.total_seconds() / 60\n",
    "test_df['time_to_claim'] = (test_df['claimed_at'] - test_df['created_at']).dt.total_seconds() / 60\n",
    "\n",
    "train_df['time_to_unclaim'] = (train_df['unclaimed_at'] - train_df['created_at']).dt.total_seconds() / 60\n",
    "test_df['time_to_unclaim'] = (test_df['unclaimed_at'] - test_df['created_at']).dt.total_seconds() / 60"
   ]
  },
  {
   "cell_type": "code",
   "execution_count": 9,
   "id": "c5cfd842",
   "metadata": {},
   "outputs": [],
   "source": [
    "# Fill NaN values with a default value\n",
    "train_df['time_to_unclaim'] = train_df['time_to_unclaim'].fillna(0)\n",
    "test_df['time_to_unclaim'] = test_df['time_to_unclaim'].fillna(0)"
   ]
  },
  {
   "cell_type": "code",
   "execution_count": 10,
   "id": "8fb0d09d",
   "metadata": {},
   "outputs": [],
   "source": [
    "# Temporal features\n",
    "train_df['hour_of_day'] = train_df['created_at'].dt.hour\n",
    "test_df['hour_of_day'] = test_df['created_at'].dt.hour\n",
    "\n",
    "# Day of the week (Monday=0, Sunday=6)\n",
    "train_df['day_of_week'] = train_df['created_at'].dt.dayofweek\n",
    "test_df['day_of_week'] = test_df['created_at'].dt.dayofweek\n",
    "\n",
    "train_df['month'] = train_df['created_at'].dt.month\n",
    "test_df['month'] = test_df['created_at'].dt.month"
   ]
  },
  {
   "cell_type": "code",
   "execution_count": 11,
   "id": "e5c2f3f4",
   "metadata": {},
   "outputs": [],
   "source": [
    "# Normalize boosts (preventing division errors)\n",
    "train_df['boost_per_mile'] = train_df['cumulative_boost_amount_cents'] / train_df['total_predicted_distance_miles'].replace(0, np.nan)\n",
    "test_df['boost_per_mile'] = test_df['cumulative_boost_amount_cents'] / test_df['total_predicted_distance_miles'].replace(0, np.nan)\n",
    "\n",
    "train_df['boost_per_mile'].fillna(0, inplace=True)\n",
    "test_df['boost_per_mile'].fillna(0, inplace=True)"
   ]
  },
  {
   "cell_type": "code",
   "execution_count": 12,
   "id": "87670ebd",
   "metadata": {},
   "outputs": [
    {
     "name": "stderr",
     "output_type": "stream",
     "text": [
      "/var/folders/9x/frjcn1ss5zs59rv4fmkypxy80000gn/T/ipykernel_23121/426830132.py:2: FutureWarning: DataFrame.mean and DataFrame.median with numeric_only=None will include datetime64 and datetime64tz columns in a future version.\n",
      "  train_means = train_df.mean()  # Mean for numerical columns\n",
      "/var/folders/9x/frjcn1ss5zs59rv4fmkypxy80000gn/T/ipykernel_23121/426830132.py:2: FutureWarning: Dropping of nuisance columns in DataFrame reductions (with 'numeric_only=None') is deprecated; in a future version this will raise TypeError.  Select only valid columns before calling the reduction.\n",
      "  train_means = train_df.mean()  # Mean for numerical columns\n"
     ]
    }
   ],
   "source": [
    "# Calculate the means and modes from train_df\n",
    "train_means = train_df.mean()  # Mean for numerical columns\n",
    "train_modes = train_df.mode().iloc[0]  # Mode for categorical columns\n",
    "\n",
    "# Fill missing values in train_df using the computed means/modes\n",
    "train_df.fillna(train_means, inplace=True)\n",
    "train_df.fillna(train_modes, inplace=True)\n",
    "\n",
    "# Fill missing values in test_df using the statistics from train_df\n",
    "test_df.fillna(train_means, inplace=True)  \n",
    "test_df.fillna(train_modes, inplace=True)  "
   ]
  },
  {
   "cell_type": "code",
   "execution_count": 13,
   "id": "1e2ba2b4",
   "metadata": {},
   "outputs": [],
   "source": [
    "# Drop leakage-prone columns (future info)\n",
    "drop_cols = ['claimed_at', 'unclaimed_at', 'trip_completed_at']\n",
    "train_df.drop(columns=drop_cols, inplace=True)\n",
    "test_df.drop(columns=drop_cols, inplace=True)"
   ]
  },
  {
   "cell_type": "code",
   "execution_count": 14,
   "id": "69cff420",
   "metadata": {},
   "outputs": [],
   "source": [
    "# Define features and target\n",
    "features = [\n",
    "    'cumulative_boost_amount_cents', 'total_predicted_duration_mins', 'total_predicted_distance_miles',\n",
    "    'is_same_day_ride', 'trip_starts_during_peak_hours', 'hour_of_day', 'day_of_week', 'month',\n",
    "    'commute_minutes', 'commute_distance', 'seq_boost_count', 'manual_boost',\n",
    "    'boost_ind', 'total_predicted_distance_miles_for_fare', 'dollars_paid_to_driver'\n",
    "]\n",
    "\n",
    "# Targets for optimization\n",
    "target_claim = 'time_to_claim'\n",
    "target_cost = 'boost_per_mile'"
   ]
  },
  {
   "cell_type": "code",
   "execution_count": 15,
   "id": "57909842",
   "metadata": {},
   "outputs": [],
   "source": [
    "# Extract y_train and y_test before selecting features\n",
    "y_train_claim = train_df[target_claim]  \n",
    "y_test_claim = test_df[target_claim]\n",
    "y_train_cost = train_df[target_cost]\n",
    "y_test_cost = test_df[target_cost]\n",
    "\n",
    "# Select only feature columns for X_train/X_test\n",
    "X_train = train_df[features]\n",
    "X_test = test_df[features]"
   ]
  },
  {
   "cell_type": "code",
   "execution_count": 16,
   "id": "b4545d3e",
   "metadata": {},
   "outputs": [
    {
     "name": "stdout",
     "output_type": "stream",
     "text": [
      "Prepared data saved to CSV files.\n"
     ]
    }
   ],
   "source": [
    "X_train.to_csv(\"X_train.csv\", index=False)\n",
    "X_test.to_csv(\"X_test.csv\", index=False)\n",
    "y_train_claim.to_csv(\"y_train_claim.csv\", index=False)\n",
    "y_test_claim.to_csv(\"y_test_claim.csv\", index=False)\n",
    "y_train_cost.to_csv(\"y_train_cost.csv\", index=False)\n",
    "y_test_cost.to_csv(\"y_test_cost.csv\", index=False)\n",
    "\n",
    "print(\"Prepared data saved to CSV files.\")"
   ]
  },
  {
   "cell_type": "code",
   "execution_count": null,
   "id": "55689a94",
   "metadata": {},
   "outputs": [],
   "source": []
  }
 ],
 "metadata": {
  "kernelspec": {
   "display_name": "Python 3 (ipykernel)",
   "language": "python",
   "name": "python3"
  },
  "language_info": {
   "codemirror_mode": {
    "name": "ipython",
    "version": 3
   },
   "file_extension": ".py",
   "mimetype": "text/x-python",
   "name": "python",
   "nbconvert_exporter": "python",
   "pygments_lexer": "ipython3",
   "version": "3.10.6"
  }
 },
 "nbformat": 4,
 "nbformat_minor": 5
}
